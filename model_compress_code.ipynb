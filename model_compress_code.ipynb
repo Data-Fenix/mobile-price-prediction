{
 "cells": [
  {
   "cell_type": "code",
   "execution_count": 1,
   "id": "08f1ed66",
   "metadata": {},
   "outputs": [],
   "source": [
    "import tarfile \n",
    "\n",
    "import os.path \n",
    "\n",
    "def make_tarfile(output_filename, source_dir): \n",
    "\n",
    "    with tarfile.open(output_filename, \"w:gz\") as tar: \n",
    "\n",
    "        tar.add(source_dir, arcname=os.path.basename(source_dir)) \n",
    "\n",
    "make_tarfile(\"model.tar.gz\", \"mobile_price_rg.pkl\")"
   ]
  },
  {
   "cell_type": "code",
   "execution_count": null,
   "id": "f050bb67",
   "metadata": {},
   "outputs": [],
   "source": []
  }
 ],
 "metadata": {
  "kernelspec": {
   "display_name": "conda_python3",
   "language": "python",
   "name": "conda_python3"
  },
  "language_info": {
   "codemirror_mode": {
    "name": "ipython",
    "version": 3
   },
   "file_extension": ".py",
   "mimetype": "text/x-python",
   "name": "python",
   "nbconvert_exporter": "python",
   "pygments_lexer": "ipython3",
   "version": "3.6.13"
  }
 },
 "nbformat": 4,
 "nbformat_minor": 5
}
